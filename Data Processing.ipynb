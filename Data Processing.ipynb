{
 "cells": [
  {
   "cell_type": "code",
   "execution_count": 3,
   "id": "b523c01e-df6e-46fb-a0ef-fe1fc53d12e7",
   "metadata": {
    "pycharm": {
     "name": "#%%\n"
    }
   },
   "outputs": [],
   "source": [
    "import pandas as pd\n",
    "import numpy as np"
   ]
  },
  {
   "cell_type": "code",
   "execution_count": 17,
   "id": "477689d6-99f8-49f1-b0ef-390d4c5d4f01",
   "metadata": {
    "pycharm": {
     "name": "#%%\n"
    }
   },
   "outputs": [],
   "source": [
    "# p = pd.read_table(\"raw_data/sc16/AgentActivities.log\", sep=';', header=0).dropna(axis=1, how='all')\n",
    "p = pd.read_table(\"raw_data/new_sc1/Rep1/AgentActivities.log\", sep=';', header=0).dropna(axis=1, how='all')"
   ]
  },
  {
   "cell_type": "code",
   "execution_count": 5,
   "id": "982d97a4-3dbd-4747-8b4a-e888c64d2a6d",
   "metadata": {
    "pycharm": {
     "name": "#%%\n"
    }
   },
   "outputs": [
    {
     "data": {
      "text/plain": "Empty DataFrame\nColumns: [AgentID, ActivityID, TimeIn, TimeOut, xLoc, yLoc, zLoc, TotalDelayTime, TotalDistance]\nIndex: []",
      "text/html": "<div>\n<style scoped>\n    .dataframe tbody tr th:only-of-type {\n        vertical-align: middle;\n    }\n\n    .dataframe tbody tr th {\n        vertical-align: top;\n    }\n\n    .dataframe thead th {\n        text-align: right;\n    }\n</style>\n<table border=\"1\" class=\"dataframe\">\n  <thead>\n    <tr style=\"text-align: right;\">\n      <th></th>\n      <th>AgentID</th>\n      <th>ActivityID</th>\n      <th>TimeIn</th>\n      <th>TimeOut</th>\n      <th>xLoc</th>\n      <th>yLoc</th>\n      <th>zLoc</th>\n      <th>TotalDelayTime</th>\n      <th>TotalDistance</th>\n    </tr>\n  </thead>\n  <tbody>\n  </tbody>\n</table>\n</div>"
     },
     "execution_count": 5,
     "metadata": {},
     "output_type": "execute_result"
    }
   ],
   "source": [
    "p[p['AgentID'] == 24828]"
   ]
  },
  {
   "cell_type": "code",
   "execution_count": 6,
   "id": "79aa74b6-d878-40c5-93d2-57d0411da07a",
   "metadata": {
    "pycharm": {
     "name": "#%%\n"
    }
   },
   "outputs": [
    {
     "data": {
      "text/plain": "Empty DataFrame\nColumns: [AgentID, ActivityID, TimeIn, TimeOut, xLoc, yLoc, zLoc, TotalDelayTime, TotalDistance]\nIndex: []",
      "text/html": "<div>\n<style scoped>\n    .dataframe tbody tr th:only-of-type {\n        vertical-align: middle;\n    }\n\n    .dataframe tbody tr th {\n        vertical-align: top;\n    }\n\n    .dataframe thead th {\n        text-align: right;\n    }\n</style>\n<table border=\"1\" class=\"dataframe\">\n  <thead>\n    <tr style=\"text-align: right;\">\n      <th></th>\n      <th>AgentID</th>\n      <th>ActivityID</th>\n      <th>TimeIn</th>\n      <th>TimeOut</th>\n      <th>xLoc</th>\n      <th>yLoc</th>\n      <th>zLoc</th>\n      <th>TotalDelayTime</th>\n      <th>TotalDistance</th>\n    </tr>\n  </thead>\n  <tbody>\n  </tbody>\n</table>\n</div>"
     },
     "execution_count": 6,
     "metadata": {},
     "output_type": "execute_result"
    }
   ],
   "source": [
    "p[p['ActivityID'] == 62]"
   ]
  },
  {
   "cell_type": "code",
   "execution_count": 18,
   "id": "d49067d3-a7a9-4bbb-9925-978e768aa34a",
   "metadata": {
    "pycharm": {
     "name": "#%%\n"
    }
   },
   "outputs": [],
   "source": [
    "orign_tab = p.copy()\n",
    "# print(len(orign_tab))\n",
    "for id in [59, 62, 63, 64]:\n",
    "    orign_tab = orign_tab.drop(index=orign_tab[orign_tab.ActivityID==id].index) # drop waiting activity\n",
    "\n",
    "# print(len(orign_tab))\n",
    "shift_tab = orign_tab.sort_values(by=\"TimeIn\", ascending=True).groupby(by=\"AgentID\")[[\"TimeIn\", \"ActivityID\"]].shift(-1)\n",
    "orign_tab[\"NextTimeIn\"] = shift_tab[\"TimeIn\"]\n",
    "orign_tab[\"NextActivity\"] = shift_tab[\"ActivityID\"]\n",
    "orign_tab = orign_tab.dropna(subset=[\"NextActivity\"])\n",
    "\n",
    "orign_tab[\"OD\"] = orign_tab.apply(lambda row: \"|\".join([str(row.ActivityID), str(row.NextActivity)]), axis=1)"
   ]
  },
  {
   "cell_type": "code",
   "execution_count": 19,
   "id": "0be174c2-e5a5-494a-a133-ccdb3bc42be9",
   "metadata": {
    "pycharm": {
     "name": "#%%\n"
    }
   },
   "outputs": [
    {
     "data": {
      "text/plain": "OD\n1.0|1.0       344\n1.0|2.0       187\n1.0|51.0       49\n1.0|52.0      130\n1.0|53.0      186\n1.0|54.0      166\n1.0|55.0      105\n1.0|56.0      169\n1.0|57.0      212\n1.0|58.0       32\n2.0|1.0       297\n2.0|2.0      3290\n2.0|51.0       56\n2.0|52.0      167\n2.0|53.0      320\n2.0|54.0      301\n2.0|55.0      482\n2.0|56.0      455\n2.0|57.0      288\n2.0|58.0       64\n51.0|1.0      148\n51.0|10.0      36\n51.0|11.0      31\n51.0|12.0      34\n51.0|13.0      45\n51.0|14.0      45\n51.0|15.0      55\n51.0|2.0      383\n51.0|8.0       44\n51.0|9.0       44\n52.0|1.0       94\n52.0|10.0      30\n52.0|11.0      32\n52.0|12.0      29\n52.0|13.0      36\n52.0|14.0      27\n52.0|15.0      35\n52.0|2.0      261\n52.0|8.0       36\n52.0|9.0       24\n58.0|1.0      141\n58.0|10.0      43\n58.0|11.0      44\n58.0|12.0      57\n58.0|13.0      30\n58.0|14.0      41\n58.0|15.0      42\n58.0|2.0      362\n58.0|8.0       59\n58.0|9.0       45\ndtype: int64"
     },
     "execution_count": 19,
     "metadata": {},
     "output_type": "execute_result"
    }
   ],
   "source": [
    "OD_Series = orign_tab.groupby(\"OD\").size()\n",
    "OD_Series"
   ]
  },
  {
   "cell_type": "code",
   "execution_count": 20,
   "id": "2f5d73a5-e15c-4362-b12f-7ea59fccda6c",
   "metadata": {
    "pycharm": {
     "name": "#%%\n"
    }
   },
   "outputs": [],
   "source": [
    "# od = [1, 2, 8, 9, 10, 11, 12, 13, 14, 15] #entry exit\n",
    "od = [1, 2, 51, 52, 53, 54, 55, 56, 57, 58] #\n",
    "\n",
    "od_mat = np.zeros([len(od), len(od)])\n",
    "for ind in OD_Series.index:\n",
    "    o = int(float(ind.split('|')[0]))\n",
    "    d = int(float(ind.split('|')[1]))\n",
    "    if o in od and d in od:\n",
    "        od_mat[od.index(o), od.index(d)] += OD_Series[ind]\n",
    "        "
   ]
  },
  {
   "cell_type": "code",
   "execution_count": 21,
   "id": "6249ee92-b70e-4297-ab80-782740bb14d2",
   "metadata": {
    "pycharm": {
     "name": "#%%\n"
    }
   },
   "outputs": [
    {
     "data": {
      "text/plain": "Index(['1.0|1.0', '1.0|2.0', '1.0|51.0', '1.0|52.0', '1.0|53.0', '1.0|54.0',\n       '1.0|55.0', '1.0|56.0', '1.0|57.0', '1.0|58.0', '2.0|1.0', '2.0|2.0',\n       '2.0|51.0', '2.0|52.0', '2.0|53.0', '2.0|54.0', '2.0|55.0', '2.0|56.0',\n       '2.0|57.0', '2.0|58.0', '51.0|1.0', '51.0|10.0', '51.0|11.0',\n       '51.0|12.0', '51.0|13.0', '51.0|14.0', '51.0|15.0', '51.0|2.0',\n       '51.0|8.0', '51.0|9.0', '52.0|1.0', '52.0|10.0', '52.0|11.0',\n       '52.0|12.0', '52.0|13.0', '52.0|14.0', '52.0|15.0', '52.0|2.0',\n       '52.0|8.0', '52.0|9.0', '58.0|1.0', '58.0|10.0', '58.0|11.0',\n       '58.0|12.0', '58.0|13.0', '58.0|14.0', '58.0|15.0', '58.0|2.0',\n       '58.0|8.0', '58.0|9.0'],\n      dtype='object', name='OD')"
     },
     "execution_count": 21,
     "metadata": {},
     "output_type": "execute_result"
    }
   ],
   "source": [
    "OD_Series.index"
   ]
  },
  {
   "cell_type": "code",
   "execution_count": 22,
   "id": "5ce3dc47-c4d7-4df7-ac7c-5a7f9817f0e9",
   "metadata": {
    "pycharm": {
     "name": "#%%\n"
    }
   },
   "outputs": [
    {
     "data": {
      "text/plain": "<AxesSubplot:>"
     },
     "execution_count": 22,
     "metadata": {},
     "output_type": "execute_result"
    },
    {
     "data": {
      "text/plain": "<Figure size 800x800 with 2 Axes>",
      "image/png": "[encoded data removed]"
     },
     "metadata": {},
     "output_type": "display_data"
    }
   ],
   "source": [
    "import seaborn as sns\n",
    "from sklearn import preprocessing   \n",
    " \n",
    "import numpy as np  \n",
    "min_max_scaler = preprocessing.MinMaxScaler()  \n",
    "%matplotlib inline\n",
    "# data = (od_mat - od_mat.min(axis=0))/(od_mat.max(axis=0) - od_mat.min(axis=0))\n",
    "# data = pd.DataFrame(data)\n",
    "data = od_mat\n",
    "sns.set(font_scale=1.5)\n",
    "sns.set_context({\"figure.figsize\":(8,8)})\n",
    "sns.heatmap(data=data,square=True)"
   ]
  },
  {
   "cell_type": "code",
   "execution_count": 23,
   "outputs": [
    {
     "data": {
      "text/plain": "array([[ 344.,  187.,   49.,  130.,  186.,  166.,  105.,  169.,  212.,\n          32.],\n       [ 297., 3290.,   56.,  167.,  320.,  301.,  482.,  455.,  288.,\n          64.],\n       [ 148.,  383.,    0.,    0.,    0.,    0.,    0.,    0.,    0.,\n           0.],\n       [  94.,  261.,    0.,    0.,    0.,    0.,    0.,    0.,    0.,\n           0.],\n       [   0.,    0.,    0.,    0.,    0.,    0.,    0.,    0.,    0.,\n           0.],\n       [   0.,    0.,    0.,    0.,    0.,    0.,    0.,    0.,    0.,\n           0.],\n       [   0.,    0.,    0.,    0.,    0.,    0.,    0.,    0.,    0.,\n           0.],\n       [   0.,    0.,    0.,    0.,    0.,    0.,    0.,    0.,    0.,\n           0.],\n       [   0.,    0.,    0.,    0.,    0.,    0.,    0.,    0.,    0.,\n           0.],\n       [ 141.,  362.,    0.,    0.,    0.,    0.,    0.,    0.,    0.,\n           0.]])"
     },
     "execution_count": 23,
     "metadata": {},
     "output_type": "execute_result"
    }
   ],
   "source": [
    "data"
   ],
   "metadata": {
    "collapsed": false,
    "pycharm": {
     "name": "#%%\n"
    }
   }
  },
  {
   "cell_type": "code",
   "execution_count": 37,
   "id": "ea8e80b9-9675-461d-b1b8-99bf408280b6",
   "metadata": {
    "pycharm": {
     "name": "#%%\n"
    }
   },
   "outputs": [],
   "source": [
    "A = np.array([[0, 1, 9, 9, 9, 9, 9, 9, 9, 9],\n",
    "[1, 0, 21, 21, 21, 21, 21, 21, 21, 21],\n",
    "[2, 2, 0, 1, 1, 1, 0,1, 1, 1],\n",
    "[2, 2, 1, 0, 1, 1, 1,0, 1, 1],\n",
    "[2, 2, 1,1,0, 1, 1, 1,0, 1],\n",
    "[2, 2, 1, 1,1, 0, 1, 1,1, 0],\n",
    "[2, 2, 0, 1,1, 1, 0, 1,1, 1],\n",
    "[2, 2, 1, 0,1, 1, 1, 0,1, 1],\n",
    "[2, 2, 1, 1,0, 1, 1, 1,0, 1],\n",
    "[2, 2, 1, 1,1, 0, 1, 1,1, 0]])\n",
    "\n",
    "B = np.array([[0, 1, 9, 9, 9, 3, 5, 3, 5, 9],\n",
    "[1, 0, 10, 21, 10, 10, 21, 2, 1, 2],\n",
    "[5, 2, 0, 1, 1, 1, 0, 1, 1, 1],\n",
    "[2, 2, 1, 0, 1, 1, 1, 0, 1, 1],\n",
    "[7, 2, 1, 1, 0, 1, 1, 5, 0, 1],\n",
    "[2, 2, 1, 1, 1, 0, 1, 1, 1, 0],\n",
    "[10, 2, 0, 1, 1, 1, 0, 1, 3, 1],\n",
    "[2, 2, 1, 0, 1, 1, 1, 0, 1, 1],\n",
    "[2, 1, 1, 1, 0, 1, 1, 1, 0, 1],\n",
    "[2, 2, 1, 1, 1, 0, 1, 1, 1, 0]])\n",
    "\n",
    "C = np.array([[0, 1, 9, 20, 9, 10, 5, 15, 5, 9],   #sc3\n",
    "[10, 0, 10, 21, 10, 10, 21, 2, 1, 2],\n",
    "[5, 2, 0, 1, 1, 1, 0, 1, 1, 1],\n",
    "[2, 2, 20, 0, 1, 1, 1, 0, 1, 1],\n",
    "[7, 20, 1, 1, 0, 1, 1, 5, 0, 1],\n",
    "[2, 10, 1, 1, 1, 0, 1, 1, 1, 0],\n",
    "[10, 2, 0, 1, 1, 1, 0, 1, 3, 1],\n",
    "[2, 2, 1, 0, 1, 1, 1, 0, 1, 1],\n",
    "[2, 1, 1, 1, 0, 1, 1, 1, 0, 1],\n",
    "[2, 2, 5, 1, 20, 0, 1, 1, 1, 0]])\n",
    "\n"
   ]
  },
  {
   "cell_type": "code",
   "execution_count": 42,
   "id": "6d5a2cf1-3bb0-4dfd-8614-576244ecc506",
   "metadata": {
    "pycharm": {
     "name": "#%%\n"
    }
   },
   "outputs": [
    {
     "data": {
      "text/plain": [
       "<AxesSubplot:>"
      ]
     },
     "execution_count": 42,
     "metadata": {},
     "output_type": "execute_result"
    },
    {
     "data": {
      "image/png": "[encoded data removed]",
      "text/plain": [
       "<Figure size 800x800 with 2 Axes>"
      ]
     },
     "metadata": {},
     "output_type": "display_data"
    }
   ],
   "source": [
    "from sklearn import preprocessing   \n",
    " \n",
    "import numpy as np  \n",
    "min_max_scaler = preprocessing.MinMaxScaler()  \n",
    " \n",
    "# X_minMax = min_max_scaler.fit_transform(B) \n",
    "X_minMax = B\n",
    "data = (X_minMax- X_minMax.min(axis=1).reshape(-1,1))/(X_minMax.max(axis=1).reshape(-1,1) - X_minMax.min(axis=1).reshape(-1,1))\n",
    "data = pd.DataFrame(data)\n",
    "sns.set(font_scale=1.5)\n",
    "sns.set_context({\"figure.figsize\":(8,8)})\n",
    "sns.heatmap(data=data,square=True) "
   ]
  },
  {
   "cell_type": "code",
   "execution_count": 66,
   "id": "50692cd5-fa51-4d3f-943c-fa1b724b4a00",
   "metadata": {
    "pycharm": {
     "name": "#%%\n"
    }
   },
   "outputs": [],
   "source": [
    "import pandas as pd\n",
    "import numpy as np\n",
    "import seaborn as sns\n",
    "from sklearn import preprocessing   \n",
    "import matplotlib.pyplot as plt\n",
    "\n",
    "import numpy as np  \n",
    "p1 = pd.read_table(\"raw_data/sc1/Rep1/AgentActivities.log\", sep=';', header=0).dropna(axis=1, how='all')\n",
    "p2 = pd.read_table(\"raw_data/sc2/Rep1/AgentActivities.log\", sep=';', header=0).dropna(axis=1, how='all')\n",
    "p3 = pd.read_table(\"raw_data/sc3/Rep1/AgentActivities.log\", sep=';', header=0).dropna(axis=1, how='all')\n",
    "\n",
    "def gen_od(df):\n",
    "    shift_tab = df.sort_values(by=\"TimeIn\", ascending=True).groupby(by=\"AgentID\")[[\"TimeIn\", \"ActivityID\"]].shift(-1)\n",
    "    orign_tab = df.copy()\n",
    "    orign_tab[\"NextTimeIn\"] = shift_tab[\"TimeIn\"]\n",
    "    orign_tab[\"NextActivity\"] = shift_tab[\"ActivityID\"]\n",
    "    orign_tab = orign_tab.dropna(subset=[\"NextActivity\"])\n",
    "    orign_tab[\"OD\"] = orign_tab.apply(lambda row: \"|\".join([str(row.ActivityID), str(row.NextActivity)]), axis=1)\n",
    "\n",
    "    OD_Series = orign_tab.groupby(\"OD\").size()\n",
    "    od = [1, 2, 8, 9, 10, 11, 12, 13, 14, 15]\n",
    "    # od = [1, 2, 8, 9, 10, 11, 12, 13, 14, 15, 28, 29, 31, 32, 34, 36, 37, 38, 39, 41, 42, 45, 46, 47, 48, 49]\n",
    "    od_mat = np.zeros([len(od), len(od)])\n",
    "    for ind in OD_Series.index:\n",
    "        o = int(float(ind.split('|')[0]))\n",
    "        d = int(float(ind.split('|')[1]))\n",
    "        if o in od and d in od:\n",
    "            od_mat[od.index(o), od.index(d)] += OD_Series[ind]\n",
    "\n",
    "    # min_max_scaler = preprocessing.MinMaxScaler()  \n",
    "    data = od_mat\n",
    "    # data = (od_mat - od_mat.min(ax÷is=1).reshape(-1,1))/(od_mat.max(axis=1).reshape(-1,1) - od_mat.min(axis=1).reshape(-1,1))\n",
    "    return data\n",
    "data1 = gen_od(p1)\n",
    "data2 = gen_od(p2)\n",
    "data3 = gen_od(p3)"
   ]
  },
  {
   "cell_type": "code",
   "execution_count": 68,
   "id": "8864c664-8161-4235-8ee4-0c220df8193d",
   "metadata": {
    "pycharm": {
     "name": "#%%\n"
    }
   },
   "outputs": [
    {
     "data": {
      "image/png": "[encoded data removed]",
      "text/plain": [
       "<Figure size 2000x500 with 6 Axes>"
      ]
     },
     "metadata": {},
     "output_type": "display_data"
    }
   ],
   "source": [
    "# p = pd.read_table(\"raw_data/Rep1/AgentActivities.log\", sep=';', header=0).dropna(axis=1, how='all')\n",
    "\n",
    "# data = pd.DataFrame(data)\n",
    "# sns.set(font_scale=1.5)\n",
    "sns.set_context({\"figure.figsize\":(20,5)})\n",
    "f, (ax1, ax2, ax3) = plt.subplots(ncols=3)\n",
    "sns.heatmap(data=data1,square=True, ax=ax1) \n",
    "sns.heatmap(data=data2,square=True, ax=ax2) \n",
    "sns.heatmap(data=data3,square=True, ax=ax3) \n",
    "# sns.heatmap(data=data3,square=True) \n",
    "f.suptitle('Crowd Flow',fontsize = 20) # title with fontsize 20\n",
    "ax1.set_xlabel('Destination', fontsize = 15) # x-axis label with fontsize 15\n",
    "ax1.set_ylabel('Origin', fontsize = 15) # y-axis label with fontsize 15\n",
    "ax2.set_xlabel('Destination', fontsize = 15) # x-axis label with fontsize 15\n",
    "ax2.set_ylabel('Origin', fontsize = 15) # y-axis label with fontsize 15\n",
    "ax3.set_xlabel('Destination', fontsize = 15) # x-axis label with fontsize 15\n",
    "ax3.set_ylabel('Origin', fontsize = 15) # y-axis label with fontsize 15\n",
    "\n",
    "plt.show()\n",
    "fig = f.get_figure()\n",
    "fig.savefig(\"./fig/od_mat_notnor.pdf\")"
   ]
  },
  {
   "cell_type": "code",
   "execution_count": 32,
   "id": "26e9b41b-b7d5-48dc-91dd-c5dabb2d83a9",
   "metadata": {
    "pycharm": {
     "name": "#%%\n"
    }
   },
   "outputs": [
    {
     "data": {
      "text/plain": [
       "array([[0. , 0.5, 1. ],\n",
       "       [0. , 0.5, 1. ]])"
      ]
     },
     "execution_count": 32,
     "metadata": {},
     "output_type": "execute_result"
    }
   ],
   "source": [
    "a = np.array([[1,2,3],[3,4,5]])\n",
    "(a - a.min(axis=1).reshape(-1,1))/(a.max(axis=1).reshape(-1,1)-a.min(axis=1).reshape(-1,1))"
   ]
  },
  {
   "cell_type": "code",
   "execution_count": 27,
   "id": "3029ab44-fa54-4ee7-b440-d5b4ae083652",
   "metadata": {
    "pycharm": {
     "name": "#%%\n"
    }
   },
   "outputs": [
    {
     "data": {
      "text/plain": [
       "array([[ 0, -1],\n",
       "       [ 2,  1]])"
      ]
     },
     "execution_count": 27,
     "metadata": {},
     "output_type": "execute_result"
    }
   ],
   "source": [
    "a - a.min(axis=1)"
   ]
  },
  {
   "cell_type": "code",
   "execution_count": 8,
   "id": "306eadfe-3e75-435f-b726-0840a6594e9d",
   "metadata": {
    "pycharm": {
     "name": "#%%\n"
    }
   },
   "outputs": [
    {
     "ename": "NameError",
     "evalue": "name 'orign_tab' is not defined",
     "output_type": "error",
     "traceback": [
      "\u001B[0;31m---------------------------------------------------------------------------\u001B[0m",
      "\u001B[0;31mNameError\u001B[0m                                 Traceback (most recent call last)",
      "Input \u001B[0;32mIn [8]\u001B[0m, in \u001B[0;36m<cell line: 1>\u001B[0;34m()\u001B[0m\n\u001B[0;32m----> 1\u001B[0m \u001B[43morign_tab\u001B[49m[orign_tab\u001B[38;5;241m.\u001B[39mActivityID \u001B[38;5;241m==\u001B[39m \u001B[38;5;241m48\u001B[39m]\n",
      "\u001B[0;31mNameError\u001B[0m: name 'orign_tab' is not defined"
     ]
    }
   ],
   "source": [
    "orign_tab[orign_tab.ActivityID == 48]"
   ]
  },
  {
   "cell_type": "code",
   "execution_count": 23,
   "id": "46218aef-678b-429c-81ef-c1f691f8c977",
   "metadata": {
    "pycharm": {
     "name": "#%%\n"
    }
   },
   "outputs": [
    {
     "data": {
      "text/html": [
       "<div>\n",
       "<style scoped>\n",
       "    .dataframe tbody tr th:only-of-type {\n",
       "        vertical-align: middle;\n",
       "    }\n",
       "\n",
       "    .dataframe tbody tr th {\n",
       "        vertical-align: top;\n",
       "    }\n",
       "\n",
       "    .dataframe thead th {\n",
       "        text-align: right;\n",
       "    }\n",
       "</style>\n",
       "<table border=\"1\" class=\"dataframe\">\n",
       "  <thead>\n",
       "    <tr style=\"text-align: right;\">\n",
       "      <th></th>\n",
       "      <th>ID</th>\n",
       "      <th>ActivityName</th>\n",
       "      <th>ActivityGroup</th>\n",
       "      <th>ActivityType</th>\n",
       "      <th>ActivityTypeName</th>\n",
       "      <th>LayerID</th>\n",
       "    </tr>\n",
       "  </thead>\n",
       "  <tbody>\n",
       "    <tr>\n",
       "      <th>21</th>\n",
       "      <td>1</td>\n",
       "      <td>Entry_exit_back</td>\n",
       "      <td>station_entry_exit</td>\n",
       "      <td>6001</td>\n",
       "      <td>Entry_Exit</td>\n",
       "      <td>1</td>\n",
       "    </tr>\n",
       "    <tr>\n",
       "      <th>9</th>\n",
       "      <td>2</td>\n",
       "      <td>Entry_exit_main</td>\n",
       "      <td>station_entry_exit</td>\n",
       "      <td>6001</td>\n",
       "      <td>Entry_Exit</td>\n",
       "      <td>1</td>\n",
       "    </tr>\n",
       "    <tr>\n",
       "      <th>11</th>\n",
       "      <td>8</td>\n",
       "      <td>Entry_exit_pl_1</td>\n",
       "      <td>platform_entry_exit_1</td>\n",
       "      <td>6001</td>\n",
       "      <td>Entry_Exit</td>\n",
       "      <td>2</td>\n",
       "    </tr>\n",
       "    <tr>\n",
       "      <th>13</th>\n",
       "      <td>9</td>\n",
       "      <td>Entry_exit_pl_3</td>\n",
       "      <td>platform_entry_exit_3</td>\n",
       "      <td>6001</td>\n",
       "      <td>Entry_Exit</td>\n",
       "      <td>2</td>\n",
       "    </tr>\n",
       "    <tr>\n",
       "      <th>30</th>\n",
       "      <td>10</td>\n",
       "      <td>Entry_exit_pl_5</td>\n",
       "      <td>platform_entry_exit_5</td>\n",
       "      <td>6001</td>\n",
       "      <td>Entry_Exit</td>\n",
       "      <td>2</td>\n",
       "    </tr>\n",
       "    <tr>\n",
       "      <th>37</th>\n",
       "      <td>11</td>\n",
       "      <td>Entry_exit_pl_7</td>\n",
       "      <td>platform_entry_exit_7</td>\n",
       "      <td>6001</td>\n",
       "      <td>Entry_Exit</td>\n",
       "      <td>2</td>\n",
       "    </tr>\n",
       "    <tr>\n",
       "      <th>36</th>\n",
       "      <td>12</td>\n",
       "      <td>Entry_exit_pl_2</td>\n",
       "      <td>platform_entry_exit_2</td>\n",
       "      <td>6001</td>\n",
       "      <td>Entry_Exit</td>\n",
       "      <td>2</td>\n",
       "    </tr>\n",
       "    <tr>\n",
       "      <th>22</th>\n",
       "      <td>13</td>\n",
       "      <td>Entry_exit_pl_4</td>\n",
       "      <td>platform_entry_exit_4</td>\n",
       "      <td>6001</td>\n",
       "      <td>Entry_Exit</td>\n",
       "      <td>2</td>\n",
       "    </tr>\n",
       "    <tr>\n",
       "      <th>35</th>\n",
       "      <td>14</td>\n",
       "      <td>Entry_exit_pl_6</td>\n",
       "      <td>platform_entry_exit_6</td>\n",
       "      <td>6001</td>\n",
       "      <td>Entry_Exit</td>\n",
       "      <td>2</td>\n",
       "    </tr>\n",
       "    <tr>\n",
       "      <th>6</th>\n",
       "      <td>15</td>\n",
       "      <td>Entry_exit_pl_8</td>\n",
       "      <td>platform_entry_exit_8</td>\n",
       "      <td>6001</td>\n",
       "      <td>Entry_Exit</td>\n",
       "      <td>2</td>\n",
       "    </tr>\n",
       "    <tr>\n",
       "      <th>25</th>\n",
       "      <td>28</td>\n",
       "      <td>Ticket_Facility_main_01</td>\n",
       "      <td>ticket_facility_main</td>\n",
       "      <td>6006</td>\n",
       "      <td>Ticket_Facility</td>\n",
       "      <td>1</td>\n",
       "    </tr>\n",
       "    <tr>\n",
       "      <th>16</th>\n",
       "      <td>29</td>\n",
       "      <td>Ticket_Facility_main_02</td>\n",
       "      <td>ticket_facility_main</td>\n",
       "      <td>6006</td>\n",
       "      <td>Ticket_Facility</td>\n",
       "      <td>1</td>\n",
       "    </tr>\n",
       "    <tr>\n",
       "      <th>27</th>\n",
       "      <td>31</td>\n",
       "      <td>Ticket_machine_main_IC_01</td>\n",
       "      <td>NaN</td>\n",
       "      <td>6011</td>\n",
       "      <td>IndicativeCorridor</td>\n",
       "      <td>1</td>\n",
       "    </tr>\n",
       "    <tr>\n",
       "      <th>17</th>\n",
       "      <td>32</td>\n",
       "      <td>Ticket_machine_main_IC_02</td>\n",
       "      <td>NaN</td>\n",
       "      <td>6011</td>\n",
       "      <td>IndicativeCorridor</td>\n",
       "      <td>1</td>\n",
       "    </tr>\n",
       "    <tr>\n",
       "      <th>23</th>\n",
       "      <td>34</td>\n",
       "      <td>Ticket_Facility_main_03</td>\n",
       "      <td>ticket_facility_main</td>\n",
       "      <td>6006</td>\n",
       "      <td>Ticket_Facility</td>\n",
       "      <td>1</td>\n",
       "    </tr>\n",
       "    <tr>\n",
       "      <th>1</th>\n",
       "      <td>36</td>\n",
       "      <td>Ticket_machine_main_IC_04</td>\n",
       "      <td>NaN</td>\n",
       "      <td>6011</td>\n",
       "      <td>IndicativeCorridor</td>\n",
       "      <td>1</td>\n",
       "    </tr>\n",
       "    <tr>\n",
       "      <th>2</th>\n",
       "      <td>37</td>\n",
       "      <td>Ticket_Facility_main_04</td>\n",
       "      <td>ticket_facility_main</td>\n",
       "      <td>6006</td>\n",
       "      <td>Ticket_Facility</td>\n",
       "      <td>1</td>\n",
       "    </tr>\n",
       "    <tr>\n",
       "      <th>12</th>\n",
       "      <td>38</td>\n",
       "      <td>Ticket_machine_main_IC_05</td>\n",
       "      <td>NaN</td>\n",
       "      <td>6011</td>\n",
       "      <td>IndicativeCorridor</td>\n",
       "      <td>1</td>\n",
       "    </tr>\n",
       "    <tr>\n",
       "      <th>26</th>\n",
       "      <td>39</td>\n",
       "      <td>Ticket_Facility_main_05</td>\n",
       "      <td>ticket_facility_main</td>\n",
       "      <td>6006</td>\n",
       "      <td>Ticket_Facility</td>\n",
       "      <td>1</td>\n",
       "    </tr>\n",
       "    <tr>\n",
       "      <th>24</th>\n",
       "      <td>41</td>\n",
       "      <td>Ticket_Facility_main_06</td>\n",
       "      <td>ticket_facility_main</td>\n",
       "      <td>6006</td>\n",
       "      <td>Ticket_Facility</td>\n",
       "      <td>1</td>\n",
       "    </tr>\n",
       "    <tr>\n",
       "      <th>7</th>\n",
       "      <td>42</td>\n",
       "      <td>Ticket_machine_main_IC_03</td>\n",
       "      <td>NaN</td>\n",
       "      <td>6011</td>\n",
       "      <td>IndicativeCorridor</td>\n",
       "      <td>1</td>\n",
       "    </tr>\n",
       "    <tr>\n",
       "      <th>18</th>\n",
       "      <td>45</td>\n",
       "      <td>Ticket_machine_main_IC_06</td>\n",
       "      <td>NaN</td>\n",
       "      <td>6011</td>\n",
       "      <td>IndicativeCorridor</td>\n",
       "      <td>1</td>\n",
       "    </tr>\n",
       "    <tr>\n",
       "      <th>0</th>\n",
       "      <td>46</td>\n",
       "      <td>Ticket_Facility_back_02</td>\n",
       "      <td>ticket_facility_back</td>\n",
       "      <td>6006</td>\n",
       "      <td>Ticket_Facility</td>\n",
       "      <td>1</td>\n",
       "    </tr>\n",
       "    <tr>\n",
       "      <th>28</th>\n",
       "      <td>47</td>\n",
       "      <td>Ticket_machine_back_IC_02</td>\n",
       "      <td>NaN</td>\n",
       "      <td>6011</td>\n",
       "      <td>IndicativeCorridor</td>\n",
       "      <td>1</td>\n",
       "    </tr>\n",
       "    <tr>\n",
       "      <th>10</th>\n",
       "      <td>48</td>\n",
       "      <td>Ticket_machine_back_IC_01</td>\n",
       "      <td>NaN</td>\n",
       "      <td>6011</td>\n",
       "      <td>IndicativeCorridor</td>\n",
       "      <td>1</td>\n",
       "    </tr>\n",
       "    <tr>\n",
       "      <th>33</th>\n",
       "      <td>49</td>\n",
       "      <td>Ticket_Facility_back_01</td>\n",
       "      <td>ticket_facility_back</td>\n",
       "      <td>6006</td>\n",
       "      <td>Ticket_Facility</td>\n",
       "      <td>1</td>\n",
       "    </tr>\n",
       "    <tr>\n",
       "      <th>19</th>\n",
       "      <td>51</td>\n",
       "      <td>TransportNetwork_1</td>\n",
       "      <td>train1</td>\n",
       "      <td>6010</td>\n",
       "      <td>Transportation</td>\n",
       "      <td>2</td>\n",
       "    </tr>\n",
       "    <tr>\n",
       "      <th>29</th>\n",
       "      <td>52</td>\n",
       "      <td>TransportNetwork_2</td>\n",
       "      <td>train2</td>\n",
       "      <td>6010</td>\n",
       "      <td>Transportation</td>\n",
       "      <td>2</td>\n",
       "    </tr>\n",
       "    <tr>\n",
       "      <th>3</th>\n",
       "      <td>53</td>\n",
       "      <td>TransportNetwork_3</td>\n",
       "      <td>train3</td>\n",
       "      <td>6010</td>\n",
       "      <td>Transportation</td>\n",
       "      <td>2</td>\n",
       "    </tr>\n",
       "    <tr>\n",
       "      <th>4</th>\n",
       "      <td>54</td>\n",
       "      <td>TransportNetwork_4</td>\n",
       "      <td>train4</td>\n",
       "      <td>6010</td>\n",
       "      <td>Transportation</td>\n",
       "      <td>2</td>\n",
       "    </tr>\n",
       "    <tr>\n",
       "      <th>20</th>\n",
       "      <td>55</td>\n",
       "      <td>TransportNetwork_5</td>\n",
       "      <td>train5</td>\n",
       "      <td>6010</td>\n",
       "      <td>Transportation</td>\n",
       "      <td>2</td>\n",
       "    </tr>\n",
       "    <tr>\n",
       "      <th>5</th>\n",
       "      <td>56</td>\n",
       "      <td>TransportNetwork_6</td>\n",
       "      <td>train6</td>\n",
       "      <td>6010</td>\n",
       "      <td>Transportation</td>\n",
       "      <td>2</td>\n",
       "    </tr>\n",
       "    <tr>\n",
       "      <th>31</th>\n",
       "      <td>57</td>\n",
       "      <td>TransportNetwork_7</td>\n",
       "      <td>train7</td>\n",
       "      <td>6010</td>\n",
       "      <td>Transportation</td>\n",
       "      <td>2</td>\n",
       "    </tr>\n",
       "    <tr>\n",
       "      <th>8</th>\n",
       "      <td>58</td>\n",
       "      <td>TransportNetwork_8</td>\n",
       "      <td>train8</td>\n",
       "      <td>6010</td>\n",
       "      <td>Transportation</td>\n",
       "      <td>2</td>\n",
       "    </tr>\n",
       "    <tr>\n",
       "      <th>34</th>\n",
       "      <td>59</td>\n",
       "      <td>Waiting_19</td>\n",
       "      <td>NaN</td>\n",
       "      <td>6002</td>\n",
       "      <td>Waiting</td>\n",
       "      <td>2</td>\n",
       "    </tr>\n",
       "    <tr>\n",
       "      <th>14</th>\n",
       "      <td>62</td>\n",
       "      <td>Waiting_20</td>\n",
       "      <td>NaN</td>\n",
       "      <td>6002</td>\n",
       "      <td>Waiting</td>\n",
       "      <td>2</td>\n",
       "    </tr>\n",
       "    <tr>\n",
       "      <th>15</th>\n",
       "      <td>63</td>\n",
       "      <td>Waiting_21</td>\n",
       "      <td>NaN</td>\n",
       "      <td>6002</td>\n",
       "      <td>Waiting</td>\n",
       "      <td>2</td>\n",
       "    </tr>\n",
       "    <tr>\n",
       "      <th>32</th>\n",
       "      <td>64</td>\n",
       "      <td>Waiting_22</td>\n",
       "      <td>NaN</td>\n",
       "      <td>6002</td>\n",
       "      <td>Waiting</td>\n",
       "      <td>2</td>\n",
       "    </tr>\n",
       "  </tbody>\n",
       "</table>\n",
       "</div>"
      ],
      "text/plain": [
       "    ID               ActivityName          ActivityGroup  ActivityType  \\\n",
       "21   1            Entry_exit_back     station_entry_exit          6001   \n",
       "9    2            Entry_exit_main     station_entry_exit          6001   \n",
       "11   8            Entry_exit_pl_1  platform_entry_exit_1          6001   \n",
       "13   9            Entry_exit_pl_3  platform_entry_exit_3          6001   \n",
       "30  10            Entry_exit_pl_5  platform_entry_exit_5          6001   \n",
       "37  11            Entry_exit_pl_7  platform_entry_exit_7          6001   \n",
       "36  12            Entry_exit_pl_2  platform_entry_exit_2          6001   \n",
       "22  13            Entry_exit_pl_4  platform_entry_exit_4          6001   \n",
       "35  14            Entry_exit_pl_6  platform_entry_exit_6          6001   \n",
       "6   15            Entry_exit_pl_8  platform_entry_exit_8          6001   \n",
       "25  28    Ticket_Facility_main_01   ticket_facility_main          6006   \n",
       "16  29    Ticket_Facility_main_02   ticket_facility_main          6006   \n",
       "27  31  Ticket_machine_main_IC_01                    NaN          6011   \n",
       "17  32  Ticket_machine_main_IC_02                    NaN          6011   \n",
       "23  34    Ticket_Facility_main_03   ticket_facility_main          6006   \n",
       "1   36  Ticket_machine_main_IC_04                    NaN          6011   \n",
       "2   37    Ticket_Facility_main_04   ticket_facility_main          6006   \n",
       "12  38  Ticket_machine_main_IC_05                    NaN          6011   \n",
       "26  39    Ticket_Facility_main_05   ticket_facility_main          6006   \n",
       "24  41    Ticket_Facility_main_06   ticket_facility_main          6006   \n",
       "7   42  Ticket_machine_main_IC_03                    NaN          6011   \n",
       "18  45  Ticket_machine_main_IC_06                    NaN          6011   \n",
       "0   46    Ticket_Facility_back_02   ticket_facility_back          6006   \n",
       "28  47  Ticket_machine_back_IC_02                    NaN          6011   \n",
       "10  48  Ticket_machine_back_IC_01                    NaN          6011   \n",
       "33  49    Ticket_Facility_back_01   ticket_facility_back          6006   \n",
       "19  51         TransportNetwork_1                 train1          6010   \n",
       "29  52         TransportNetwork_2                 train2          6010   \n",
       "3   53         TransportNetwork_3                 train3          6010   \n",
       "4   54         TransportNetwork_4                 train4          6010   \n",
       "20  55         TransportNetwork_5                 train5          6010   \n",
       "5   56         TransportNetwork_6                 train6          6010   \n",
       "31  57         TransportNetwork_7                 train7          6010   \n",
       "8   58         TransportNetwork_8                 train8          6010   \n",
       "34  59                 Waiting_19                    NaN          6002   \n",
       "14  62                 Waiting_20                    NaN          6002   \n",
       "15  63                 Waiting_21                    NaN          6002   \n",
       "32  64                 Waiting_22                    NaN          6002   \n",
       "\n",
       "      ActivityTypeName  LayerID  \n",
       "21          Entry_Exit        1  \n",
       "9           Entry_Exit        1  \n",
       "11          Entry_Exit        2  \n",
       "13          Entry_Exit        2  \n",
       "30          Entry_Exit        2  \n",
       "37          Entry_Exit        2  \n",
       "36          Entry_Exit        2  \n",
       "22          Entry_Exit        2  \n",
       "35          Entry_Exit        2  \n",
       "6           Entry_Exit        2  \n",
       "25     Ticket_Facility        1  \n",
       "16     Ticket_Facility        1  \n",
       "27  IndicativeCorridor        1  \n",
       "17  IndicativeCorridor        1  \n",
       "23     Ticket_Facility        1  \n",
       "1   IndicativeCorridor        1  \n",
       "2      Ticket_Facility        1  \n",
       "12  IndicativeCorridor        1  \n",
       "26     Ticket_Facility        1  \n",
       "24     Ticket_Facility        1  \n",
       "7   IndicativeCorridor        1  \n",
       "18  IndicativeCorridor        1  \n",
       "0      Ticket_Facility        1  \n",
       "28  IndicativeCorridor        1  \n",
       "10  IndicativeCorridor        1  \n",
       "33     Ticket_Facility        1  \n",
       "19      Transportation        2  \n",
       "29      Transportation        2  \n",
       "3       Transportation        2  \n",
       "4       Transportation        2  \n",
       "20      Transportation        2  \n",
       "5       Transportation        2  \n",
       "31      Transportation        2  \n",
       "8       Transportation        2  \n",
       "34             Waiting        2  \n",
       "14             Waiting        2  \n",
       "15             Waiting        2  \n",
       "32             Waiting        2  "
      ]
     },
     "execution_count": 23,
     "metadata": {},
     "output_type": "execute_result"
    }
   ],
   "source": [
    "activity = pd.read_table(\"raw_data/new_sc1/Rep1/ActivityLocations.log\", sep=';', header=0).dropna(axis=1, how='all')\n",
    "activity.sort_values(by=\"ID\")"
   ]
  },
  {
   "cell_type": "code",
   "execution_count": 9,
   "id": "a34b9227-abfe-4aeb-a484-4f38dde322c1",
   "metadata": {
    "pycharm": {
     "name": "#%%\n"
    }
   },
   "outputs": [],
   "source": [
    "import skmob"
   ]
  },
  {
   "cell_type": "code",
   "execution_count": 64,
   "id": "bbf0b6a9-7ef9-4440-a0a2-972923341327",
   "metadata": {
    "pycharm": {
     "name": "#%%\n"
    }
   },
   "outputs": [],
   "source": [
    "p = pd.read_table(\"raw_data/sc1/Rep1/AgentActivities.log\", sep=';', header=0).dropna(axis=1, how='all')"
   ]
  },
  {
   "cell_type": "code",
   "execution_count": 2,
   "id": "2a21d063-dbe5-4cc3-b9f7-4c227b0ca795",
   "metadata": {
    "pycharm": {
     "name": "#%%\n"
    }
   },
   "outputs": [],
   "source": [
    "import matplotlib.pyplot as plt\n"
   ]
  },
  {
   "cell_type": "code",
   "execution_count": 82,
   "id": "6714e3f6-7588-48ba-afa6-7ed83bcc787f",
   "metadata": {
    "pycharm": {
     "name": "#%%\n"
    }
   },
   "outputs": [],
   "source": [
    "x = p[(p[\"zLoc\"]==0)][\"xLoc\"].values\n",
    "y = p[(p[\"zLoc\"]==0)][\"yLoc\"].values"
   ]
  },
  {
   "cell_type": "code",
   "execution_count": 95,
   "id": "a1f8995b-e2db-4767-9a55-6e38a1eb5658",
   "metadata": {
    "pycharm": {
     "name": "#%%\n"
    }
   },
   "outputs": [],
   "source": [
    "x2 = p[(p[\"zLoc\"]==0) & (p[\"ActivityID\"]==31)][\"xLoc\"].values\n",
    "y2 = p[(p[\"zLoc\"]==0) & (p[\"ActivityID\"]==31)][\"yLoc\"].values\n",
    "x1 = p[(p[\"zLoc\"]==0) & (p[\"ActivityID\"]==42)][\"xLoc\"].values\n",
    "y1 = p[(p[\"zLoc\"]==0) & (p[\"ActivityID\"]==42)][\"yLoc\"].values\n",
    "x3 = p[(p[\"zLoc\"]==0) & (p[\"ActivityID\"]==38)][\"xLoc\"].values\n",
    "y3 = p[(p[\"zLoc\"]==0) & (p[\"ActivityID\"]==38)][\"yLoc\"].values"
   ]
  },
  {
   "cell_type": "code",
   "execution_count": 97,
   "id": "8284787b-7ca7-442a-ac57-446706cc00e0",
   "metadata": {
    "pycharm": {
     "name": "#%%\n"
    }
   },
   "outputs": [
    {
     "data": {
      "image/png": "[encoded data removed]",
      "text/plain": [
       "<Figure size 432x288 with 1 Axes>"
      ]
     },
     "metadata": {
      "needs_background": "light"
     },
     "output_type": "display_data"
    }
   ],
   "source": [
    "plt.plot(x, y, '.')\n",
    "# plt.plot(x1, y1, '.')\n",
    "plt.plot(x2, y2, '.')\n",
    "plt.plot(x3, y3, '.')\n",
    "plt.show()"
   ]
  },
  {
   "cell_type": "code",
   "execution_count": null,
   "id": "6b65f6a0-bbbb-4a0d-aac1-e8e374e7cb8e",
   "metadata": {
    "pycharm": {
     "name": "#%%\n"
    }
   },
   "outputs": [],
   "source": []
  }
 ],
 "metadata": {
  "kernelspec": {
   "display_name": "Python 3 (ipykernel)",
   "language": "python",
   "name": "python3"
  },
  "language_info": {
   "codemirror_mode": {
    "name": "ipython",
    "version": 3
   },
   "file_extension": ".py",
   "mimetype": "text/x-python",
   "name": "python",
   "nbconvert_exporter": "python",
   "pygments_lexer": "ipython3",
   "version": "3.9.12"
  }
 },
 "nbformat": 4,
 "nbformat_minor": 5
}