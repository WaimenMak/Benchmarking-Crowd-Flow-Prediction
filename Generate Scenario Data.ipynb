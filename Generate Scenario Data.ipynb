{
 "cells": [
  {
   "cell_type": "code",
   "execution_count": null,
   "metadata": {
    "collapsed": true
   },
   "outputs": [],
   "source": [
    "# This cell for generating ood dataset\n",
    "import random\n",
    "import numpy as np\n",
    "import os\n",
    "save_mode = False\n",
    "def generating_scenarios_dataset(data_dict, train_sc, save_mode=False):\n",
    "    all_x, all_y, all_test_x, all_test_y = [], [], [], []\n",
    "    for scenario in data_dict.keys():\n",
    "        data = data_dict[scenario]\n",
    "        x_offsets = np.sort(\n",
    "                # np.concatenate(([-week_size + 1, -day_size + 1], np.arange(-11, 1, 1)))\n",
    "                np.concatenate((np.arange(-11, 1, 1),))\n",
    "            )\n",
    "            # Predict the next one hour\n",
    "        y_offsets = np.sort(np.arange(1, 13, 1))\n",
    "        min_t = abs(min(x_offsets))\n",
    "        max_t = abs(data.shape[0]- abs(max(y_offsets)))\n",
    "\n",
    "        # max_t = abs(N - abs(max(y_offsets)))  # Exclusive\n",
    "        x_train, y_train, x_test, y_test = [], [], [], []\n",
    "        for t in range(min_t, max_t):\n",
    "            x_t = data[t + x_offsets, ...]\n",
    "            y_t = data[t + y_offsets, ...]\n",
    "            if scenario in train_sc:\n",
    "                x_train.append(x_t)\n",
    "                y_train.append(y_t)\n",
    "            # else:\n",
    "            #     x_test.append(x_t)\n",
    "            #     y_test.append(y_t)\n",
    "\n",
    "        # divide train scenerio and test\n",
    "        if scenario in train_sc:\n",
    "            x_train = np.stack(x_train, axis=0)\n",
    "            y_train = np.stack(y_train, axis=0)\n",
    "            all_x.append(x_train)\n",
    "            all_y.append(y_train)\n",
    "        # else:\n",
    "        #     x_test = np.stack(x_test, axis=0)\n",
    "        #     y_test = np.stack(y_test, axis=0)\n",
    "        #     all_test_x.append(x_test)\n",
    "        #     all_test_y.append(y_test)\n",
    "\n",
    "\n",
    "\n",
    "    zipped_lists = list(zip(all_x, all_y))\n",
    "    random.shuffle(zipped_lists)  # shuffle data\n",
    "    all_x, all_y = zip(*zipped_lists)\n",
    "\n",
    "    x = np.concatenate(all_x, axis=0)\n",
    "    y = np.concatenate(all_y, axis=0)\n",
    "\n",
    "\n",
    "\n",
    "    num_samples, num_nodes = x.shape[0], x.shape[2]  # num_samples = ts - 12*2 +1\n",
    "    # len_train = round(num_samples * 0.8)\n",
    "    # len_val = round(num_samples * 0.1)\n",
    "    x_train, y_train = x, y\n",
    "    # x_val, y_val = x[len_train:, ...], y[len_train:, ...]\n",
    "    # x_test, y_test = np.concatenate(all_test_x, axis=0), np.concatenate(all_test_y, axis=0)\n",
    "\n",
    "    if save_mode:\n",
    "        for cat in [\"train\"]:\n",
    "            _x, _y = locals()[\"x_\" + cat], locals()[\"y_\" + cat]\n",
    "            np.savez_compressed(\n",
    "            os.path.join(\"./ood_dataset\", \"%s.npz\" % cat),\n",
    "            x=_x,\n",
    "            y=_y,\n",
    "            # x_offsets=x_offsets.reshape(list(x_offsets.shape) + [1]),\n",
    "            # y_offsets=y_offsets.reshape(list(y_offsets.shape) + [1]),\n",
    "        )"
   ]
  },
  {
   "cell_type": "code",
   "execution_count": null,
   "outputs": [],
   "source": [
    "from lib.utils import gen_data_dict\n",
    "from lib.utils import process_sensor_data\n",
    "# Define path to parent directory containing subdirectories with CSV files\n",
    "parent_dir = './sc sensor 2/'\n",
    "df_dict = dict()\n",
    "train_sc = [\"sc1\", \"sc2\", \"sc2_2\", \"sc3\", \"sc3_2\",\n",
    "            \"sc5\", \"sc5_2\", \"sc13\", \"sc13_2\", \"sc16\",\n",
    "            \"sc18\", \"sc19\"]\n",
    "# Loop through each subdirectory in the parent directory\n",
    "df_dict = process_sensor_data(parent_dir, df_dict)\n",
    "data_dict = gen_data_dict(df_dict)\n",
    "generating_scenarios_dataset(data_dict, train_sc)"
   ],
   "metadata": {
    "collapsed": false
   }
  }
 ],
 "metadata": {
  "kernelspec": {
   "display_name": "Python 3",
   "language": "python",
   "name": "python3"
  },
  "language_info": {
   "codemirror_mode": {
    "name": "ipython",
    "version": 2
   },
   "file_extension": ".py",
   "mimetype": "text/x-python",
   "name": "python",
   "nbconvert_exporter": "python",
   "pygments_lexer": "ipython2",
   "version": "2.7.6"
  }
 },
 "nbformat": 4,
 "nbformat_minor": 0
}
